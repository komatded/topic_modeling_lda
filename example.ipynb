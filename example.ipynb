{
 "cells": [
  {
   "cell_type": "markdown",
   "metadata": {},
   "source": [
    "## Обучаем LDA модель"
   ]
  },
  {
   "cell_type": "code",
   "execution_count": null,
   "metadata": {
    "pycharm": {
     "name": "#%%\n"
    }
   },
   "outputs": [],
   "source": [
    "from topic_theme_lda import LDAModel\n",
    "from utils_lda import preprocess_text\n",
    "from gensim import corpora\n",
    "from tqdm import tqdm\n",
    "import pandas as pd\n",
    "\n",
    "text_len_threshold = 100 #Минимальная длина текста в символах\n",
    "num_topics = 10 #Количество топиков для вычисления"
   ]
  },
  {
   "cell_type": "markdown",
   "metadata": {},
   "source": [
    "### Собираем данные из таблицы"
   ]
  },
  {
   "cell_type": "code",
   "execution_count": null,
   "metadata": {
    "pycharm": {
     "name": "#%%\n"
    }
   },
   "outputs": [],
   "source": [
    "data = pd.read_csv('../resources/post.csv')[['description', 'published']]\n",
    "data['published'] = pd.to_datetime(data.published, format=\"%Y-%m-%d %H:%M:%S\")\n",
    "data['description'] = data['description'].fillna('')\n",
    "data = data[data['description'].apply(lambda i: len(i)) >= text_len_threshold]\n",
    "tqdm.pandas()\n",
    "data['lemmas'] = data['description'].progress_apply(preprocess_text, args=(4, False, True))\n",
    "# min_word_len=4, exclude_hashtags=False, lemmatize=True"
   ]
  },
  {
   "cell_type": "markdown",
   "metadata": {
    "pycharm": {
     "name": "#%%\n"
    }
   },
   "source": [
    "### Обучаем новую модель"
   ]
  },
  {
   "cell_type": "code",
   "execution_count": null,
   "metadata": {},
   "outputs": [],
   "source": [
    "text_data = data.lemmas.to_list()[:10000]  #Берем первые 10000 текстов\n",
    "dictionary = corpora.Dictionary(text_data)\n",
    "corpus = [dictionary.doc2bow(text) for text in text_data]\n",
    "lda_model = LDAModel(corpus=corpus, num_topics=num_topics,\n",
    "                     id2word=dictionary, passes=15, \n",
    "                     start_date=data.published.min(), end_date=data.published.max())"
   ]
  },
  {
   "cell_type": "markdown",
   "metadata": {},
   "source": [
    "### Предсказание топика по документу"
   ]
  },
  {
   "cell_type": "code",
   "execution_count": null,
   "metadata": {},
   "outputs": [],
   "source": [
    "document = data['description'].values[0]\n",
    "print(document)\n",
    "topics = lda_model.predict_raw_document_topic(document, min_word_len=4, exclude_hashtags=False, lemmatize=True)\n",
    "print('Topic id: {0}, weight: {1}'.format(*topics[0]))\n",
    "lda_model.print_topic(topics[0][0])"
   ]
  },
  {
   "cell_type": "markdown",
   "metadata": {},
   "source": [
    "## Визуализация"
   ]
  },
  {
   "cell_type": "code",
   "execution_count": null,
   "metadata": {},
   "outputs": [],
   "source": [
    "import pyLDAvis.gensim\n",
    "\n",
    "lda_display = pyLDAvis.gensim.prepare(lda_model, corpus, dictionary, sort_topics=False)\n",
    "pyLDAvis.show(lda_display)"
   ]
  }
 ],
 "metadata": {
  "kernelspec": {
   "display_name": "Python 3",
   "language": "python",
   "name": "python3"
  },
  "language_info": {
   "codemirror_mode": {
    "name": "ipython",
    "version": 3
   },
   "file_extension": ".py",
   "mimetype": "text/x-python",
   "name": "python",
   "nbconvert_exporter": "python",
   "pygments_lexer": "ipython3",
   "version": "3.7.4"
  },
  "pycharm": {
   "stem_cell": {
    "cell_type": "raw",
    "metadata": {
     "collapsed": false
    },
    "source": []
   }
  }
 },
 "nbformat": 4,
 "nbformat_minor": 1
}
